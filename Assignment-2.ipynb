{
 "cells": [
  {
   "cell_type": "markdown",
   "id": "cd3723ab-23c2-42fe-80c7-463d233fde44",
   "metadata": {},
   "source": [
    "Q1.How do you comment code in Python? What are the different types of comments?"
   ]
  },
  {
   "cell_type": "markdown",
   "id": "b661e408-169a-40ba-b4ed-0fb9a0296d1c",
   "metadata": {},
   "source": [
    "There are two types of comments in Python:\n",
    "\n"
   ]
  },
  {
   "cell_type": "markdown",
   "id": "db6d0e4d-86bd-46c3-8cb4-2d4eb8bcc63b",
   "metadata": {},
   "source": [
    "1.Single-line Comments:\n",
    "\n",
    "Single-line comments start with a hash symbol (#) and continue until the end of the line.\n",
    "\n",
    "They are used to add comments on a single line."
   ]
  },
  {
   "cell_type": "code",
   "execution_count": 1,
   "id": "4795e3cf-1fb4-4950-851a-cf79694be60c",
   "metadata": {},
   "outputs": [
    {
     "name": "stdout",
     "output_type": "stream",
     "text": [
      "Hello, World!\n"
     ]
    }
   ],
   "source": [
    "# This is a single-line comment\n",
    "print(\"Hello, World!\")  # This is also a single-line comment\n"
   ]
  },
  {
   "cell_type": "markdown",
   "id": "39a45884-6a54-4395-985a-8961122f5c6c",
   "metadata": {},
   "source": [
    "2.Multi-line or Block Comments:\n",
    "\n",
    "Multi-line comments are used for longer comments or comments spanning multiple lines.\n",
    "\n",
    "They are enclosed between triple quotes (\"\"\" or ''') at the beginning and end."
   ]
  },
  {
   "cell_type": "code",
   "execution_count": 2,
   "id": "53325ef7-786e-4ff6-8278-12a0bec01fd0",
   "metadata": {},
   "outputs": [
    {
     "name": "stdout",
     "output_type": "stream",
     "text": [
      "Hello, World!\n"
     ]
    }
   ],
   "source": [
    "\"\"\"\n",
    "This is a multi-line comment.\n",
    "It can span multiple lines.\n",
    "\"\"\"\n",
    "print(\"Hello, World!\")\n"
   ]
  },
  {
   "cell_type": "markdown",
   "id": "d60f0095-6ada-451e-af0b-5819ee73bbc8",
   "metadata": {},
   "source": [
    "Q2.What are variables in Python? How do you declare and assign values to variables?"
   ]
  },
  {
   "cell_type": "markdown",
   "id": "2e20e918-b7ef-42fe-ae6e-349a79dde3f6",
   "metadata": {},
   "source": [
    "A variable is a named reference to a value stored in the computer's memory. It allows you to store and manipulate data during the execution of a program"
   ]
  },
  {
   "cell_type": "markdown",
   "id": "6d963a58-62a0-4ea8-aad0-7ada2a41ce44",
   "metadata": {},
   "source": [
    "1.Variable Declaration:\n",
    "\n",
    "In Python, you don't need to explicitly declare variables before using them. You can directly assign values to them."
   ]
  },
  {
   "cell_type": "markdown",
   "id": "57a02c56-ddbb-4bd8-9913-e11a07813a1d",
   "metadata": {},
   "source": [
    "2.Variable Assignment:\n",
    "\n",
    "To assign a value to a variable, use the assignment operator (=).\n",
    "\n",
    "The variable name appears on the left side of the assignment operator, and the value to be assigned appears on the right side."
   ]
  },
  {
   "cell_type": "code",
   "execution_count": 5,
   "id": "ccac3d26-8667-4d81-9c8a-652972b9cd96",
   "metadata": {},
   "outputs": [],
   "source": [
    "# Variable assignment\n",
    "name = \"John\"\n",
    "age = 25\n"
   ]
  },
  {
   "cell_type": "markdown",
   "id": "e08d5cfb-3503-475d-aadc-662835f4a797",
   "metadata": {},
   "source": [
    "3.Variable Reassignment:\n",
    "\n",
    "Variables in Python can be reassigned to different values as needed."
   ]
  },
  {
   "cell_type": "code",
   "execution_count": 6,
   "id": "fb95f616-4966-4d4d-8a51-c6fcd5d7d65a",
   "metadata": {},
   "outputs": [],
   "source": [
    "# Variable reassignment\n",
    "age = 25\n",
    "age = 30  # Reassigning a new value to the 'age' variable\n"
   ]
  },
  {
   "cell_type": "markdown",
   "id": "fb8bfa1f-90f5-4d33-af03-6774b8c19f69",
   "metadata": {},
   "source": [
    "Q3.How do you convert one data type to another in Python?"
   ]
  },
  {
   "cell_type": "markdown",
   "id": "58fc0be2-6752-4e66-bcf8-f266e1687adc",
   "metadata": {},
   "source": [
    "Implicit Type Conversion (Automatic):\n",
    "\n",
    "Python automatically performs implicit type conversion when you combine or operate on values of different types."
   ]
  },
  {
   "cell_type": "markdown",
   "id": "c5f3df24-9b3b-493f-a9a1-94f3eb1b6411",
   "metadata": {},
   "source": [
    "Explicit Type Conversion (Type Casting):\n",
    "\n",
    "Explicit type conversion, also known as type casting, is performed using specific functions or constructors to convert one data type to another.\n",
    "\n",
    "Here are some commonly used type casting functions:\n",
    "\n",
    "int(): Converts a value to an integer data type.\n",
    "float(): Converts a value to a floating-point data type.\n",
    "str(): Converts a value to a string data type.\n",
    "list(): Converts a value to a list data type.\n",
    "tuple(): Converts a value to a tuple data type.\n",
    "bool(): Converts a value to a boolean data type."
   ]
  },
  {
   "cell_type": "code",
   "execution_count": 8,
   "id": "90ed0fb3-e5cb-44ad-a4e2-fc723fabfb5d",
   "metadata": {},
   "outputs": [
    {
     "name": "stdout",
     "output_type": "stream",
     "text": [
      "10 <class 'int'>\n",
      "10.0 <class 'float'>\n",
      "10 <class 'str'>\n",
      "[0, 1, 2, 3, 4] <class 'list'>\n"
     ]
    }
   ],
   "source": [
    "# Explicit type conversion (type casting)\n",
    "x = 10\n",
    "y = float(x)  # Convert x to a float\n",
    "z = str(x)  # Convert x to a string\n",
    "my_list = list(range(5))  # Convert range to a list\n",
    "\n",
    "print(x, type(x))  \n",
    "print(y, type(y))\n",
    "print(z, type(z)) \n",
    "print(my_list, type(my_list))  "
   ]
  },
  {
   "cell_type": "markdown",
   "id": "acf4839a-5e9a-428a-82df-43c3fb1d6223",
   "metadata": {},
   "source": [
    "Q4.How do you write and execute a Python script from the command line?"
   ]
  },
  {
   "attachments": {
    "83ef8756-d84a-4277-960e-e6870d105d79.png": {
     "image/png": "[encoded data removed]"
    }
   },
   "cell_type": "markdown",
   "id": "47496a75-f55e-455f-97f0-c0b9d0cb04b2",
   "metadata": {},
   "source": [
    "![image.png](attachment:83ef8756-d84a-4277-960e-e6870d105d79.png)"
   ]
  },
  {
   "cell_type": "markdown",
   "id": "f5292325-ab87-4203-a32d-be97d6405572",
   "metadata": {},
   "source": [
    "Q5.Given a list my_list = [1, 2, 3, 4, 5], write the code to slice the list and obtain the sub-list [2, 3]."
   ]
  },
  {
   "cell_type": "markdown",
   "id": "8debcb90-7f19-49a8-be1e-8bdb95474b7f",
   "metadata": {},
   "source": [
    "my_list = [1, 2, 3, 4, 5]\n",
    "\n",
    "sub_list = my_list[1:3]\n",
    "print(sub_list)\n"
   ]
  },
  {
   "cell_type": "markdown",
   "id": "d9f545a9-08f0-4413-a814-56e7788df2b6",
   "metadata": {},
   "source": [
    "Q6.What is a complex number in mathematics, and how is it represented in Python?"
   ]
  },
  {
   "cell_type": "code",
   "execution_count": 12,
   "id": "1eb87862-22a2-402c-9c64-38d5abd3c049",
   "metadata": {},
   "outputs": [
    {
     "name": "stdout",
     "output_type": "stream",
     "text": [
      "(2+3j)\n",
      "(1.5-2.8j)\n"
     ]
    }
   ],
   "source": [
    "# Complex number examples\n",
    "z1 = 2 + 3j\n",
    "z2 = 1.5 - 2.8j\n",
    "\n",
    "print(z1)  # Output: (2+3j)\n",
    "print(z2)  # Output: (1.5-2.8j)\n"
   ]
  },
  {
   "cell_type": "markdown",
   "id": "6f156823-80d0-41da-905e-20a920722e14",
   "metadata": {},
   "source": [
    "Q7.What is the correct way to declare a variable named age and assign the value 25 to it?"
   ]
  },
  {
   "cell_type": "code",
   "execution_count": 14,
   "id": "bebf6214-4eb8-430e-a7c1-97bc45dba715",
   "metadata": {},
   "outputs": [],
   "source": [
    "age = 25\n"
   ]
  },
  {
   "cell_type": "markdown",
   "id": "be87ec39-e92f-4644-ae35-b5ae86423974",
   "metadata": {},
   "source": [
    "Q8.Declare a variable named price and assign the value 9.99 to it. What data type does this variable\n",
    "belong to?"
   ]
  },
  {
   "cell_type": "code",
   "execution_count": 17,
   "id": "b2f4a462-11ad-47b0-8266-4ebb3e216919",
   "metadata": {},
   "outputs": [
    {
     "name": "stdout",
     "output_type": "stream",
     "text": [
      "<class 'float'>\n"
     ]
    }
   ],
   "source": [
    "price = 9.99\n",
    "print(type(price))"
   ]
  },
  {
   "cell_type": "markdown",
   "id": "0a045d7d-793c-4df1-be6c-72c3e6f1fb1b",
   "metadata": {},
   "source": [
    "Q8.Create a variable named name and assign your full name to it as a string. How would you print the\n",
    "value of this variable?"
   ]
  },
  {
   "cell_type": "code",
   "execution_count": 18,
   "id": "136d4a17-d9ad-4d0f-a92d-debc1f0a4bca",
   "metadata": {},
   "outputs": [],
   "source": [
    "name = \"Whaddduphomie\"\n"
   ]
  },
  {
   "cell_type": "code",
   "execution_count": 19,
   "id": "ab41c179-d735-4f62-8a81-f934cf54331b",
   "metadata": {},
   "outputs": [
    {
     "name": "stdout",
     "output_type": "stream",
     "text": [
      "Whaddduphomie\n"
     ]
    }
   ],
   "source": [
    "print(name)"
   ]
  },
  {
   "cell_type": "code",
   "execution_count": 20,
   "id": "81fc56a6-3b47-4a13-972c-05f7a8954b68",
   "metadata": {},
   "outputs": [
    {
     "name": "stdout",
     "output_type": "stream",
     "text": [
      "My name is Whaddduphomie\n"
     ]
    }
   ],
   "source": [
    "print(\"My name is\", name)"
   ]
  },
  {
   "cell_type": "markdown",
   "id": "04bbc76d-1b32-45bd-a174-7f2d77b08c8b",
   "metadata": {},
   "source": [
    "Q9.Given the string \"Hello, World!\", extract the substring \"World\"."
   ]
  },
  {
   "cell_type": "code",
   "execution_count": 21,
   "id": "73aa2a35-7733-4f19-b2cf-1678e1ab162a",
   "metadata": {},
   "outputs": [
    {
     "name": "stdout",
     "output_type": "stream",
     "text": [
      "World\n"
     ]
    }
   ],
   "source": [
    "string = \"Hello, World!\"\n",
    "substring = string[7:12]\n",
    "print(substring)\n"
   ]
  },
  {
   "cell_type": "markdown",
   "id": "ff9897f7-a4fc-433b-ab2f-d67bf384cc7e",
   "metadata": {},
   "source": [
    "Q10.Create a variable named \"is_student\" and assign it a boolean value indicating whether you are\n",
    "currently a student or not."
   ]
  },
  {
   "cell_type": "code",
   "execution_count": null,
   "id": "154fbadc-381c-4c45-b19b-ef09f8f1465a",
   "metadata": {},
   "outputs": [],
   "source": []
  }
 ],
 "metadata": {
  "kernelspec": {
   "display_name": "Python 3 (ipykernel)",
   "language": "python",
   "name": "python3"
  },
  "language_info": {
   "codemirror_mode": {
    "name": "ipython",
    "version": 3
   },
   "file_extension": ".py",
   "mimetype": "text/x-python",
   "name": "python",
   "nbconvert_exporter": "python",
   "pygments_lexer": "ipython3",
   "version": "3.10.8"
  }
 },
 "nbformat": 4,
 "nbformat_minor": 5
}
