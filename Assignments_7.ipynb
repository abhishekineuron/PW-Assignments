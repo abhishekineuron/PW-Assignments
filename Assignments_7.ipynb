{
 "cells": [
  {
   "cell_type": "markdown",
   "id": "edc90b96-d4d9-4de5-956b-4d8a90e871e1",
   "metadata": {},
   "source": [
    "Q1. What is an Exception in python? Write the difference between Exceptions and Syntax errors."
   ]
  },
  {
   "cell_type": "markdown",
   "id": "31140473-c246-4c2b-913c-c56912ec56f4",
   "metadata": {},
   "source": [
    "In Python, an exception is an event that occurs during the execution of a program, which disrupts the normal flow of the program's instructions. It is a way to handle errors and exceptional conditions that may arise during the execution of code"
   ]
  },
  {
   "cell_type": "markdown",
   "id": "f546e1c4-23cb-48ef-abf7-b6d7e105ea5f",
   "metadata": {},
   "source": [
    "Here are the key differences between exceptions and syntax errors:\n",
    "\n",
    "Exceptions:\n",
    "\n",
    "Exceptions occur during the execution of a program.\n",
    "They can be raised explicitly or implicitly.\n",
    "Exceptions can be caught and handled using try and except blocks.\n",
    "They disrupt the normal flow of program execution and require explicit handling to prevent program termination.\n",
    "Examples of exceptions include ZeroDivisionError, TypeError, FileNotFoundError, etc.\n",
    "Syntax Errors:\n",
    "\n",
    "Syntax errors occur during the parsing or compilation phase before program execution.\n",
    "They are raised when the Python interpreter encounters invalid code syntax.\n",
    "Syntax errors indicate mistakes in the program's structure and need to be fixed before the program can be executed.\n",
    "They prevent the program from being executed and display an error message pointing to the specific location of the syntax error.\n",
    "Examples of syntax errors include missing colons, unmatched parentheses, incorrect indentation, etc."
   ]
  },
  {
   "cell_type": "markdown",
   "id": "6b262004-26c4-45ba-8d26-1ca765da8ea8",
   "metadata": {},
   "source": [
    "Q2. What happens when an exception is not handled? Explain with an example."
   ]
  },
  {
   "cell_type": "markdown",
   "id": "45a16eea-cd52-45d0-af36-7a9a8f8cc86c",
   "metadata": {},
   "source": [
    "When an exception is not handled, it results in the termination of the program and an error message is displayed. This error message provides information about the unhandled exception and the stack trace, which shows the sequence of function calls that led to the exception."
   ]
  },
  {
   "cell_type": "code",
   "execution_count": 2,
   "id": "965c3800-c60f-467a-8935-edd2ce24c098",
   "metadata": {},
   "outputs": [
    {
     "ename": "ZeroDivisionError",
     "evalue": "division by zero",
     "output_type": "error",
     "traceback": [
      "\u001b[0;31m---------------------------------------------------------------------------\u001b[0m",
      "\u001b[0;31mZeroDivisionError\u001b[0m                         Traceback (most recent call last)",
      "Cell \u001b[0;32mIn[2], line 6\u001b[0m\n\u001b[1;32m      3\u001b[0m     result \u001b[38;5;241m=\u001b[39m a \u001b[38;5;241m/\u001b[39m b\n\u001b[1;32m      5\u001b[0m \u001b[38;5;66;03m# Calling the function with invalid arguments\u001b[39;00m\n\u001b[0;32m----> 6\u001b[0m \u001b[43mdivide_numbers\u001b[49m\u001b[43m(\u001b[49m\u001b[38;5;241;43m10\u001b[39;49m\u001b[43m,\u001b[49m\u001b[43m \u001b[49m\u001b[38;5;241;43m0\u001b[39;49m\u001b[43m)\u001b[49m\n",
      "Cell \u001b[0;32mIn[2], line 3\u001b[0m, in \u001b[0;36mdivide_numbers\u001b[0;34m(a, b)\u001b[0m\n\u001b[1;32m      2\u001b[0m \u001b[38;5;28;01mdef\u001b[39;00m \u001b[38;5;21mdivide_numbers\u001b[39m(a, b):\n\u001b[0;32m----> 3\u001b[0m     result \u001b[38;5;241m=\u001b[39m \u001b[43ma\u001b[49m\u001b[43m \u001b[49m\u001b[38;5;241;43m/\u001b[39;49m\u001b[43m \u001b[49m\u001b[43mb\u001b[49m\n",
      "\u001b[0;31mZeroDivisionError\u001b[0m: division by zero"
     ]
    }
   ],
   "source": [
    "# Example of an unhandled exception\n",
    "def divide_numbers(a, b):\n",
    "    result = a / b\n",
    "\n",
    "# Calling the function with invalid arguments\n",
    "divide_numbers(10, 0)\n"
   ]
  },
  {
   "cell_type": "markdown",
   "id": "9448b439-2c71-481b-bd2b-9f978fc57f01",
   "metadata": {},
   "source": [
    "def divide_numbers(a, b):\n",
    "    try:\n",
    "        result = a / b\n",
    "        print(\"Result:\", result)\n",
    "    except ZeroDivisionError:\n",
    "        print(\"Error: Division by zero!\")\n",
    "\n",
    "# Calling the function with invalid arguments\n",
    "divide_numbers(10, 0)\n"
   ]
  },
  {
   "cell_type": "markdown",
   "id": "f4b4ac45-cfe3-48bb-b69a-9faeb7c44589",
   "metadata": {},
   "source": [
    "Q3. Which Python statements are used to catch and handle exceptions? Explain with an example."
   ]
  },
  {
   "cell_type": "markdown",
   "id": "0b7d7d25-b5d6-469b-b00e-8082ec8eb1d3",
   "metadata": {},
   "source": [
    "In Python, the try-except statements are used to catch and handle exceptions. The try block is used to enclose the code that may raise an exception, and the except block is used to handle the exception if it occurs."
   ]
  },
  {
   "cell_type": "code",
   "execution_count": 7,
   "id": "ff2cd39c-ac72-4a51-8252-4e17ea2dd3e7",
   "metadata": {},
   "outputs": [
    {
     "name": "stdin",
     "output_type": "stream",
     "text": [
      "Enter the first number:  55\n",
      "Enter the second number:  0\n"
     ]
    },
    {
     "name": "stdout",
     "output_type": "stream",
     "text": [
      "Error: Division by zero!\n"
     ]
    }
   ],
   "source": [
    "try:\n",
    "    # Code that may raise an exception\n",
    "    num1 = int(input(\"Enter the first number: \"))\n",
    "    num2 = int(input(\"Enter the second number: \"))\n",
    "    result = num1 / num2\n",
    "    print(\"Result:\", result)\n",
    "except ZeroDivisionError:\n",
    "    print(\"Error: Division by zero!\")\n",
    "except ValueError:\n",
    "    print(\"Error: Invalid input!\")\n"
   ]
  },
  {
   "cell_type": "markdown",
   "id": "6e89edc4-3af6-458d-a378-35ea91e4915f",
   "metadata": {},
   "source": [
    "Q4. Explain with an example:\n",
    "a. try and else\n",
    "b. finally\n",
    "c. raise"
   ]
  },
  {
   "cell_type": "markdown",
   "id": "2d816ed6-7df1-46f9-945b-ddcaa0b9056d",
   "metadata": {},
   "source": [
    "a. try and else:\n",
    "\n",
    "The else block in a try-except statement is executed only if no exceptions occur in the corresponding try block. It is used to specify the code that should run when the try block successfully completes without raising any exceptions."
   ]
  },
  {
   "cell_type": "code",
   "execution_count": 8,
   "id": "8dc36276-07f5-40d1-9eb3-dee1cffc1244",
   "metadata": {},
   "outputs": [
    {
     "name": "stdin",
     "output_type": "stream",
     "text": [
      "Enter the first number:  15\n",
      "Enter the second number:  0\n"
     ]
    },
    {
     "name": "stdout",
     "output_type": "stream",
     "text": [
      "Error: Division by zero!\n"
     ]
    }
   ],
   "source": [
    "try:\n",
    "    num1 = int(input(\"Enter the first number: \"))\n",
    "    num2 = int(input(\"Enter the second number: \"))\n",
    "    result = num1 / num2\n",
    "except ZeroDivisionError:\n",
    "    print(\"Error: Division by zero!\")\n",
    "else:\n",
    "    print(\"Result:\", result)\n"
   ]
  },
  {
   "cell_type": "markdown",
   "id": "1b09597d-ece2-4c9e-b475-4a4b6a2a3d92",
   "metadata": {},
   "source": [
    "finally:\n",
    "\n",
    "The finally block in a try-except statement is used to specify code that should be executed regardless of whether an exception occurred or not. It is useful for cleanup or resource release operations that need to be performed, such as closing files or releasing database connections."
   ]
  },
  {
   "cell_type": "code",
   "execution_count": 11,
   "id": "9da7cc09-45b9-4a22-811c-25c920f9af65",
   "metadata": {},
   "outputs": [
    {
     "name": "stdin",
     "output_type": "stream",
     "text": [
      "Enter your age:  -5\n"
     ]
    },
    {
     "name": "stdout",
     "output_type": "stream",
     "text": [
      "Error: Invalid age: age cannot be negative\n"
     ]
    }
   ],
   "source": [
    "def validate_age(age):\n",
    "    if age < 0:\n",
    "        raise ValueError(\"Invalid age: age cannot be negative\")\n",
    "    elif age > 120:\n",
    "        raise ValueError(\"Invalid age: age cannot exceed 120 years\")\n",
    "    else:\n",
    "        print(\"Valid age:\", age)\n",
    "\n",
    "try:\n",
    "    age = int(input(\"Enter your age: \"))\n",
    "    validate_age(age)\n",
    "except ValueError as e:\n",
    "    print(\"Error:\", str(e))\n"
   ]
  },
  {
   "cell_type": "markdown",
   "id": "2bd073d4-1959-4bb3-bcc7-f7f976b64a7f",
   "metadata": {},
   "source": [
    "Q5. What are Custom Exceptions in python? Why do we need Custom Exceptions? Explain with an example."
   ]
  },
  {
   "cell_type": "markdown",
   "id": "302f0671-1f51-4f9e-8c92-3110ac5b2b7a",
   "metadata": {},
   "source": [
    "\n",
    "Custom exceptions in Python are user-defined exceptions that inherit from the base Exception class. They allow you to create your own specific exceptions to handle unique error conditions in your code.\n",
    "\n",
    "We need custom exceptions to provide more meaningful and specific error messages for exceptional situations that may occur in our code. By defining custom exceptions, we can encapsulate the details of the error and provide clear, informative messages that help with debugging and understanding the cause of the exception."
   ]
  },
  {
   "cell_type": "code",
   "execution_count": 12,
   "id": "27583eea-9851-4a5e-8d6d-5dccc6e7c1e4",
   "metadata": {},
   "outputs": [
    {
     "name": "stdout",
     "output_type": "stream",
     "text": [
      "Error: Insufficient balance\n"
     ]
    }
   ],
   "source": [
    "class WithdrawalError(Exception):\n",
    "    \"\"\"Custom exception for invalid withdrawal\"\"\"\n",
    "\n",
    "    def __init__(self, message):\n",
    "        self.message = message\n",
    "\n",
    "    def __str__(self):\n",
    "        return self.message\n",
    "\n",
    "class BankAccount:\n",
    "    def __init__(self, balance):\n",
    "        self.balance = balance\n",
    "\n",
    "    def withdraw(self, amount):\n",
    "        if amount > self.balance:\n",
    "            raise WithdrawalError(\"Insufficient balance\")\n",
    "        elif amount <= 0:\n",
    "            raise WithdrawalError(\"Invalid withdrawal amount\")\n",
    "        else:\n",
    "            self.balance -= amount\n",
    "            print(\"Withdrawal successful. Remaining balance:\", self.balance)\n",
    "\n",
    "# Usage example\n",
    "account = BankAccount(1000)\n",
    "try:\n",
    "    account.withdraw(1500)\n",
    "except WithdrawalError as e:\n",
    "    print(\"Error:\", str(e))\n"
   ]
  },
  {
   "cell_type": "code",
   "execution_count": null,
   "id": "112e6329-0529-4144-8bc7-7b0a62afed81",
   "metadata": {},
   "outputs": [],
   "source": []
  }
 ],
 "metadata": {
  "kernelspec": {
   "display_name": "Python 3 (ipykernel)",
   "language": "python",
   "name": "python3"
  },
  "language_info": {
   "codemirror_mode": {
    "name": "ipython",
    "version": 3
   },
   "file_extension": ".py",
   "mimetype": "text/x-python",
   "name": "python",
   "nbconvert_exporter": "python",
   "pygments_lexer": "ipython3",
   "version": "3.10.8"
  }
 },
 "nbformat": 4,
 "nbformat_minor": 5
}
