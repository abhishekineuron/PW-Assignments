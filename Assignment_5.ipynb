{
 "cells": [
  {
   "cell_type": "markdown",
   "id": "0e97b2bb-171e-472b-933a-9c69233fd7f8",
   "metadata": {},
   "source": [
    "Q1. Explain Class and Object with respect to Object-Oriented Programming. Give a suitable example."
   ]
  },
  {
   "cell_type": "markdown",
   "id": "d34baa5e-ebf5-4e90-8610-fa19c3663d0d",
   "metadata": {},
   "source": [
    "In object-oriented programming (OOP), a class is a blueprint or template for creating objects, while an object is an instance of a class. A class defines the common attributes (data) and behaviors (methods) that objects of that class will have. It serves as a blueprint for creating multiple objects with similar characteristics."
   ]
  },
  {
   "cell_type": "code",
   "execution_count": 1,
   "id": "8734c300-7966-47e0-b4e4-c2e650bef5cd",
   "metadata": {},
   "outputs": [
    {
     "name": "stdout",
     "output_type": "stream",
     "text": [
      "Toyota\n",
      "Civic\n",
      "2021 Toyota Camry\n",
      "2022 Honda Civic\n"
     ]
    }
   ],
   "source": [
    "# Class definition\n",
    "class Car:\n",
    "    # Constructor method\n",
    "    def __init__(self, make, model, year):\n",
    "        self.make = make\n",
    "        self.model = model\n",
    "        self.year = year\n",
    "    \n",
    "    # Method to get the car's information\n",
    "    def get_info(self):\n",
    "        return f\"{self.year} {self.make} {self.model}\"\n",
    "\n",
    "# Creating objects of the Car class\n",
    "car1 = Car(\"Toyota\", \"Camry\", 2021)\n",
    "car2 = Car(\"Honda\", \"Civic\", 2022)\n",
    "\n",
    "# Accessing object attributes\n",
    "print(car1.make)  # Output: Toyota\n",
    "print(car2.model)  # Output: Civic\n",
    "\n",
    "# Calling object methods\n",
    "print(car1.get_info())  # Output: 2021 Toyota Camry\n",
    "print(car2.get_info())  # Output: 2022 Honda Civic\n"
   ]
  },
  {
   "cell_type": "markdown",
   "id": "2941dd91-394d-4f34-b8b0-01def842e307",
   "metadata": {},
   "source": [
    "Q2.Name the four pillars of OOPs."
   ]
  },
  {
   "cell_type": "markdown",
   "id": "e29dd1d5-5e5a-455e-8016-bb642f8eb105",
   "metadata": {},
   "source": [
    "1.Abstraction\n",
    "2.Inheritance\n",
    "3.polymorphism\n",
    "4.Encapsulation"
   ]
  },
  {
   "cell_type": "markdown",
   "id": "69989422-d2b8-44b2-b4f1-c19884399aca",
   "metadata": {},
   "source": [
    "Q3. Explain why the __init__() function is used. Give a suitable example."
   ]
  },
  {
   "cell_type": "markdown",
   "id": "f3be5ecc-dc67-43f2-9681-9bca1670007f",
   "metadata": {},
   "source": [
    "The __init__() function is a special method in Python classes that is automatically called when an object is created from the class. It is commonly used to initialize the attributes of an object with default or user-defined values."
   ]
  },
  {
   "cell_type": "code",
   "execution_count": 4,
   "id": "dd830c29-47e4-46c5-a4bd-bb57ad9619a3",
   "metadata": {},
   "outputs": [
    {
     "name": "stdout",
     "output_type": "stream",
     "text": [
      "Hello, my name is John and I am 36 years old.\n"
     ]
    }
   ],
   "source": [
    "class Person:\n",
    "    def __init__(self, name, age):\n",
    "        self.name = name\n",
    "        self.age = age\n",
    "\n",
    "    def say_hello(self):\n",
    "        print(\"Hello, my name is {} and I am {} years old.\".format(self.name, self.age))\n",
    "\n",
    "p1 = Person(\"John\", 36)\n",
    "p1.say_hello()\n"
   ]
  },
  {
   "cell_type": "markdown",
   "id": "47eced1b-fccf-43b9-ae7d-31e4cda1a2b5",
   "metadata": {},
   "source": [
    "Q4. Why self is used in OOPs?"
   ]
  },
  {
   "cell_type": "markdown",
   "id": "7f3acd8c-9086-4685-b81e-d66c4a58c150",
   "metadata": {},
   "source": [
    "In object-oriented programming (OOP), the self parameter is used as a reference to the instance of a class. It is a convention in Python to name this first parameter of instance methods as self, although you can technically use any valid variable name.\n",
    "\n",
    "The self parameter allows us to access and manipulate the attributes and methods of an object within its own class. It represents the instance itself and provides a way to refer to the object's attributes and call its methods.\n",
    "\n",
    "By using self, we can differentiate between instance variables (attributes) and local variables within the class. It helps in maintaining the state and identity of each individual object."
   ]
  },
  {
   "cell_type": "code",
   "execution_count": null,
   "id": "d6690870-6e2d-45e6-ac29-51bd7d8f26f6",
   "metadata": {},
   "outputs": [],
   "source": []
  }
 ],
 "metadata": {
  "kernelspec": {
   "display_name": "Python 3 (ipykernel)",
   "language": "python",
   "name": "python3"
  },
  "language_info": {
   "codemirror_mode": {
    "name": "ipython",
    "version": 3
   },
   "file_extension": ".py",
   "mimetype": "text/x-python",
   "name": "python",
   "nbconvert_exporter": "python",
   "pygments_lexer": "ipython3",
   "version": "3.10.8"
  }
 },
 "nbformat": 4,
 "nbformat_minor": 5
}
