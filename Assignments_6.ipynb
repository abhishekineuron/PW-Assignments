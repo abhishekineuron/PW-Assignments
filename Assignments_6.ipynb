{
 "cells": [
  {
   "cell_type": "markdown",
   "id": "44c295a9-9547-419f-bb72-336855d42115",
   "metadata": {},
   "source": [
    "Q1, Create a vehicle class with an init method having instance variables as name_of_vehicle, max_speed\n",
    "and average_of_vehicle."
   ]
  },
  {
   "cell_type": "code",
   "execution_count": 1,
   "id": "faa8ccf5-4545-4ada-ad99-c513d822e14c",
   "metadata": {},
   "outputs": [
    {
     "name": "stdout",
     "output_type": "stream",
     "text": [
      "Car\n",
      "200\n",
      "50\n",
      "Bike\n",
      "180\n",
      "40\n"
     ]
    }
   ],
   "source": [
    "class Vehicle:\n",
    "    def __init__(self, name_of_vehicle, max_speed, average_of_vehicle):\n",
    "        self.name_of_vehicle = name_of_vehicle\n",
    "        self.max_speed = max_speed\n",
    "        self.average_of_vehicle = average_of_vehicle\n",
    "\n",
    "# Creating an instance of the Vehicle class\n",
    "car = Vehicle(\"Car\", 200, 50)\n",
    "print(car.name_of_vehicle)        # Output: Car\n",
    "print(car.max_speed)              # Output: 200\n",
    "print(car.average_of_vehicle)     # Output: 50\n",
    "\n",
    "bike = Vehicle(\"Bike\", 180, 40)\n",
    "print(bike.name_of_vehicle)       # Output: Bike\n",
    "print(bike.max_speed)             # Output: 180\n",
    "print(bike.average_of_vehicle)    # Output: 40\n"
   ]
  },
  {
   "cell_type": "markdown",
   "id": "dc2e3773-d557-4567-a69b-5ec2ca30ac61",
   "metadata": {},
   "source": [
    "Q2. Create a child class car from the vehicle class created in Que 1, which will inherit the vehicle class.\n",
    "Create a method named seating_capacity which takes capacity as an argument and returns the name of\n",
    "the vehicle and its seating capacity."
   ]
  },
  {
   "cell_type": "code",
   "execution_count": 2,
   "id": "3d90e68d-5d5c-410a-becd-ed7a475ff484",
   "metadata": {},
   "outputs": [
    {
     "name": "stdout",
     "output_type": "stream",
     "text": [
      "Sedan\n",
      "180\n",
      "4\n",
      "Sedan has a seating capacity of 5 passengers.\n"
     ]
    }
   ],
   "source": [
    "class Car(Vehicle):\n",
    "    def seating_capacity(self, capacity):\n",
    "        return f\"{self.name_of_vehicle} has a seating capacity of {capacity} passengers.\"\n",
    "\n",
    "# Creating an instance of the Car class\n",
    "car = Car(\"Sedan\", 180, 4)\n",
    "print(car.name_of_vehicle)               # Output: Sedan\n",
    "print(car.max_speed)                     # Output: 180\n",
    "print(car.average_of_vehicle)            # Output: 4\n",
    "\n",
    "print(car.seating_capacity(5))            # Output: Sedan has a seating capacity of 5 passengers.\n"
   ]
  },
  {
   "cell_type": "markdown",
   "id": "e1ba2d2b-c496-4d56-ab02-44a765752536",
   "metadata": {},
   "source": [
    "Q3. What is multiple inheritance? Write a python code to demonstrate multiple inheritance."
   ]
  },
  {
   "cell_type": "markdown",
   "id": "f01cc21d-041e-4dc7-865f-c5e331582982",
   "metadata": {},
   "source": [
    "\n",
    "Multiple inheritance is a feature in object-oriented programming where a class can inherit attributes and methods from more than one parent class. In multiple inheritance, a child class can inherit from multiple parent classes, which allows for combining functionalities from different sources"
   ]
  },
  {
   "cell_type": "code",
   "execution_count": 3,
   "id": "89a25864-5f58-400c-b5b7-b40a7cdb1dbb",
   "metadata": {},
   "outputs": [
    {
     "name": "stdout",
     "output_type": "stream",
     "text": [
      "Sparrow is eating.\n",
      "Sparrow is chirping.\n",
      "Flying.\n"
     ]
    }
   ],
   "source": [
    "class Animal:\n",
    "    def __init__(self, name):\n",
    "        self.name = name\n",
    "\n",
    "    def eat(self):\n",
    "        print(f\"{self.name} is eating.\")\n",
    "\n",
    "\n",
    "class Flyable:\n",
    "    def fly(self):\n",
    "        print(\"Flying.\")\n",
    "\n",
    "\n",
    "class Bird(Animal, Flyable):\n",
    "    def __init__(self, name):\n",
    "        super().__init__(name)\n",
    "\n",
    "    def chirp(self):\n",
    "        print(f\"{self.name} is chirping.\")\n",
    "\n",
    "\n",
    "# Creating an instance of the Bird class\n",
    "bird = Bird(\"Sparrow\")\n",
    "bird.eat()       # Output: Sparrow is eating.\n",
    "bird.chirp()     # Output: Sparrow is chirping.\n",
    "bird.fly()       # Output: Flying.\n"
   ]
  },
  {
   "cell_type": "markdown",
   "id": "cbd9e032-fa9f-478a-a751-7145593da7da",
   "metadata": {},
   "source": [
    "Q4. What are getter and setter in python? Create a class and create a getter and a setter method in this\n",
    "class."
   ]
  },
  {
   "cell_type": "code",
   "execution_count": null,
   "id": "4f8700ab-30c0-4789-906f-d006646d1612",
   "metadata": {},
   "outputs": [],
   "source": []
  }
 ],
 "metadata": {
  "kernelspec": {
   "display_name": "Python 3 (ipykernel)",
   "language": "python",
   "name": "python3"
  },
  "language_info": {
   "codemirror_mode": {
    "name": "ipython",
    "version": 3
   },
   "file_extension": ".py",
   "mimetype": "text/x-python",
   "name": "python",
   "nbconvert_exporter": "python",
   "pygments_lexer": "ipython3",
   "version": "3.10.8"
  }
 },
 "nbformat": 4,
 "nbformat_minor": 5
}
