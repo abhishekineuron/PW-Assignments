{
 "cells": [
  {
   "cell_type": "markdown",
   "id": "73469f81-0b63-4ad5-90dc-76836ac9c423",
   "metadata": {},
   "source": [
    "Q1. Create one variable containing following type of data:\n",
    "(i) string\n",
    "(ii) list\n",
    "(iii) float\n",
    "(iv) tuple"
   ]
  },
  {
   "cell_type": "code",
   "execution_count": 1,
   "id": "ccfb7ff5-04b6-4733-8aa2-f4299489efd5",
   "metadata": {},
   "outputs": [],
   "source": [
    "my_string = \"Hello, World!\"\n"
   ]
  },
  {
   "cell_type": "code",
   "execution_count": 2,
   "id": "de6a5df1-a39c-4d55-9dda-9363a441ad21",
   "metadata": {},
   "outputs": [],
   "source": [
    "my_list = [1, 2, 3, 4, 5]\n"
   ]
  },
  {
   "cell_type": "code",
   "execution_count": 3,
   "id": "c4995ebe-3653-4d3c-bf7c-dc61d9ae0c17",
   "metadata": {},
   "outputs": [],
   "source": [
    "my_float = 3.14\n"
   ]
  },
  {
   "cell_type": "code",
   "execution_count": 4,
   "id": "6e6672e0-1581-4bed-b1b0-f572ca46f60a",
   "metadata": {},
   "outputs": [],
   "source": [
    "my_tuple = (1, \"apple\", 3.14)\n"
   ]
  },
  {
   "cell_type": "markdown",
   "id": "f00b2729-5ef0-4b62-9729-eac7a6480b3f",
   "metadata": {},
   "source": [
    "Q2. Given are some following variables containing data:\n",
    "(i) var1 = ‘ ‘\n",
    "(ii) var2 = ‘[ DS , ML , Python]’\n",
    "(iii) var3 = [ ‘DS’ , ’ML’ , ‘Python’ ]\n",
    "(iv) var4 = 1."
   ]
  },
  {
   "cell_type": "markdown",
   "id": "6a1e2037-28cc-41ee-a651-0a74792b5ce6",
   "metadata": {},
   "source": [
    "(i) var1 = ' '"
   ]
  },
  {
   "cell_type": "markdown",
   "id": "6d59ec91-2b17-40ce-928b-ec2119af742f",
   "metadata": {},
   "source": [
    "Data type: String\n",
    "Explanation: var1 is assigned an empty string value, denoted by single quotes. Therefore, its data type is string."
   ]
  },
  {
   "cell_type": "markdown",
   "id": "f779191d-ae66-4aca-bdf4-9dff94fc949f",
   "metadata": {},
   "source": [
    "(ii)var2 = '[ DS , ML , Python]'\n",
    "\n",
    "Data type: String\n",
    "Explanation: var2 is assigned a string value that represents a list of words enclosed in square brackets. However, since it is enclosed in quotes, it is treated as a string and not a list."
   ]
  },
  {
   "cell_type": "markdown",
   "id": "a547dab8-04f3-4452-be43-1c93ca9d08eb",
   "metadata": {},
   "source": [
    "(iii) var3 = ['DS', 'ML', 'Python']\n",
    "\n",
    "Data type: List\n",
    "Explanation: var3 is assigned a list of strings. The values are enclosed in square brackets, and each value is separated by a comma. This is a valid representation of a list in Python."
   ]
  },
  {
   "cell_type": "markdown",
   "id": "cbc85441-0cc7-4c82-9d85-ed8784a88eb9",
   "metadata": {},
   "source": [
    "(iv)var4 = 1\n",
    "\n",
    "Data type: Integer\n",
    "Explanation: var4 is assigned an integer value. The absence of quotes indicates that it is an integer rather than a string."
   ]
  },
  {
   "cell_type": "markdown",
   "id": "e849ee51-c734-48f5-a981-3c732172687b",
   "metadata": {},
   "source": [
    "Q3. Explain the use of the following operators using an example:\n",
    "(i) /\n",
    "(ii) %\n",
    "(iii) //\n",
    "(iv) **"
   ]
  },
  {
   "cell_type": "markdown",
   "id": "716fd82b-e45f-4cb1-81a8-52418906e20b",
   "metadata": {},
   "source": [
    "(i) / (Division Operator):\n",
    "\n",
    "The / operator is used for division in Python"
   ]
  },
  {
   "cell_type": "code",
   "execution_count": 6,
   "id": "2286a3ae-d38f-462f-8a8e-0176c6ec61d1",
   "metadata": {},
   "outputs": [
    {
     "name": "stdout",
     "output_type": "stream",
     "text": [
      "3.3333333333333335\n"
     ]
    }
   ],
   "source": [
    "result = 10 / 3\n",
    "print(result)  # Output: 3.3333333333333335\n"
   ]
  },
  {
   "cell_type": "markdown",
   "id": "069561dd-b2e1-460a-b7ff-c56cdce4a16c",
   "metadata": {},
   "source": [
    "(ii) % (Modulo Operator):\n",
    "\n",
    "The % operator is used for modulus or remainder division."
   ]
  },
  {
   "cell_type": "code",
   "execution_count": 7,
   "id": "0d1cc06a-24d4-42b0-aad2-fc3045dd80ef",
   "metadata": {},
   "outputs": [
    {
     "name": "stdout",
     "output_type": "stream",
     "text": [
      "1\n"
     ]
    }
   ],
   "source": [
    "result = 10 % 3\n",
    "print(result)  # Output: 1\n"
   ]
  },
  {
   "cell_type": "markdown",
   "id": "63c16e7c-9695-4e4a-81fb-f11e2b9b472c",
   "metadata": {},
   "source": [
    "(iii) // (Floor Division Operator):\n",
    "\n",
    "The // operator is used for floor division.\n",
    "It performs division similar to the / operator but rounds down the result to the nearest whole number."
   ]
  },
  {
   "cell_type": "code",
   "execution_count": 10,
   "id": "98bbdb9e-f97c-4f7b-9c14-f9a775a75dde",
   "metadata": {},
   "outputs": [
    {
     "name": "stdout",
     "output_type": "stream",
     "text": [
      "3\n"
     ]
    }
   ],
   "source": [
    "result = 10 // 3\n",
    "print(result)  # Output: 3\n"
   ]
  },
  {
   "cell_type": "markdown",
   "id": "f2d06b00-e945-4f28-b297-f4fc0e1a4c3e",
   "metadata": {},
   "source": [
    "(iv) \"**\" (Exponentiation Operator):\n",
    "\n",
    "The ** operator is used for exponentiation or raising a number to a power."
   ]
  },
  {
   "cell_type": "code",
   "execution_count": 11,
   "id": "04f8df7b-f556-42c5-8a7f-ec28d8c03d36",
   "metadata": {},
   "outputs": [
    {
     "name": "stdout",
     "output_type": "stream",
     "text": [
      "8\n"
     ]
    }
   ],
   "source": [
    "result = 2 ** 3\n",
    "print(result)  # Output: 8\n"
   ]
  },
  {
   "cell_type": "markdown",
   "id": "68eab3fc-498b-41b8-8c4f-e4fb3263ce5b",
   "metadata": {},
   "source": [
    "Q4. Create a list of length 10 of your choice containing multiple types of data. Using for loop print the\n",
    "element and its data type."
   ]
  },
  {
   "cell_type": "code",
   "execution_count": 13,
   "id": "1c287b2c-0cdd-4551-bae6-c04cc6fcd7f2",
   "metadata": {},
   "outputs": [
    {
     "name": "stdout",
     "output_type": "stream",
     "text": [
      "Element: 1\n",
      "Data Type: <class 'int'>\n",
      "Element: apple\n",
      "Data Type: <class 'str'>\n",
      "Element: 3.14\n",
      "Data Type: <class 'float'>\n",
      "Element: True\n",
      "Data Type: <class 'bool'>\n",
      "Element: [1, 2, 3]\n",
      "Data Type: <class 'list'>\n",
      "Element: banana\n",
      "Data Type: <class 'str'>\n",
      "Element: False\n",
      "Data Type: <class 'bool'>\n",
      "Element: (4, 5)\n",
      "Data Type: <class 'tuple'>\n",
      "Element: {'key': 'value'}\n",
      "Data Type: <class 'dict'>\n",
      "Element: None\n",
      "Data Type: <class 'NoneType'>\n"
     ]
    }
   ],
   "source": [
    "my_list = [1, 'apple', 3.14, True, [1, 2, 3], 'banana', False, (4, 5), {'key': 'value'}, None]\n",
    "\n",
    "for element in my_list:\n",
    "    print(\"Element:\", element)\n",
    "    print(\"Data Type:\", type(element))\n"
   ]
  },
  {
   "cell_type": "markdown",
   "id": "05469876-87b0-412d-b8c6-76d5a6567389",
   "metadata": {},
   "source": [
    "Q5 .Using a while loop, verify if the number A is purely divisible by number B and if so then how many\n",
    "times it can be divisible."
   ]
  },
  {
   "cell_type": "code",
   "execution_count": 15,
   "id": "312dca7b-2af8-47cd-8ae6-9569cbf5842e",
   "metadata": {},
   "outputs": [
    {
     "name": "stdout",
     "output_type": "stream",
     "text": [
      "8 is divisible by 3 and can be divided 1 times.\n"
     ]
    }
   ],
   "source": [
    "A = 24  \n",
    "B = 3   \n",
    "\n",
    "count = 0 \n",
    "\n",
    "while A % B == 0:\n",
    "    A = A // B  \n",
    "    count += 1  \n",
    "\n",
    "if count > 0:\n",
    "    print(f\"{A} is divisible by {B} and can be divided {count} times.\")\n",
    "else:\n",
    "    print(f\"{A} is not divisible by {B}.\")\n"
   ]
  },
  {
   "cell_type": "markdown",
   "id": "912947b4-5546-4d6f-865b-7dfeede57c7d",
   "metadata": {},
   "source": [
    "Q6.Create a list containing 25 int type data. Using for loop and if-else condition print if the element is\n",
    "divisible by 3 or not."
   ]
  },
  {
   "cell_type": "code",
   "execution_count": 18,
   "id": "30bd0c88-39c8-42ce-9b5d-3d2a833e73a4",
   "metadata": {},
   "outputs": [
    {
     "name": "stdout",
     "output_type": "stream",
     "text": [
      "9 is divisible by 3.\n",
      "12 is divisible by 3.\n",
      "7 is not divisible by 3.\n",
      "18 is divisible by 3.\n",
      "21 is divisible by 3.\n",
      "14 is not divisible by 3.\n",
      "15 is divisible by 3.\n",
      "30 is divisible by 3.\n",
      "27 is divisible by 3.\n",
      "33 is divisible by 3.\n",
      "8 is not divisible by 3.\n",
      "11 is not divisible by 3.\n",
      "6 is divisible by 3.\n",
      "13 is not divisible by 3.\n",
      "20 is not divisible by 3.\n",
      "25 is not divisible by 3.\n",
      "36 is divisible by 3.\n",
      "40 is not divisible by 3.\n",
      "22 is not divisible by 3.\n",
      "16 is not divisible by 3.\n",
      "19 is not divisible by 3.\n",
      "24 is divisible by 3.\n",
      "28 is not divisible by 3.\n",
      "10 is not divisible by 3.\n",
      "17 is not divisible by 3.\n"
     ]
    }
   ],
   "source": [
    "my_list = [9, 12, 7, 18, 21, 14, 15, 30, 27, 33, 8, 11, 6, 13, 20, 25, 36, 40, 22, 16, 19, 24, 28, 10, 17]\n",
    "\n",
    "for element in my_list:\n",
    "    if element % 3 == 0:\n",
    "        print(f\"{element} is divisible by 3.\")\n",
    "    else:\n",
    "        print(f\"{element} is not divisible by 3.\")\n"
   ]
  },
  {
   "cell_type": "markdown",
   "id": "fc677bdd-bee6-46f3-8d42-586c04389b1f",
   "metadata": {},
   "source": [
    "Q7. What do you understand about mutable and immutable data types? Give examples for both showing\n",
    "this property."
   ]
  },
  {
   "cell_type": "code",
   "execution_count": null,
   "id": "4cbbd2f6-df7a-40a0-8d1c-968481f2598c",
   "metadata": {},
   "outputs": [],
   "source": []
  }
 ],
 "metadata": {
  "kernelspec": {
   "display_name": "Python 3 (ipykernel)",
   "language": "python",
   "name": "python3"
  },
  "language_info": {
   "codemirror_mode": {
    "name": "ipython",
    "version": 3
   },
   "file_extension": ".py",
   "mimetype": "text/x-python",
   "name": "python",
   "nbconvert_exporter": "python",
   "pygments_lexer": "ipython3",
   "version": "3.10.8"
  }
 },
 "nbformat": 4,
 "nbformat_minor": 5
}
